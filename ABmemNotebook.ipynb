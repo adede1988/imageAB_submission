{
 "cells": [
  {
   "cell_type": "markdown",
   "metadata": {},
   "source": [
    "Analysis of AB interaction with memory"
   ]
  },
  {
   "cell_type": "code",
   "execution_count": 12,
   "metadata": {},
   "outputs": [],
   "source": [
    "#set up the environment\n",
    "import numpy as np\n",
    "import pandas as pd\n",
    "from pandas import DataFrame, Series\n",
    "from os import walk,getcwd\n",
    "import matplotlib.pyplot as plt\n",
    "#custom helper functions for reading in data files and performing key analysis steps\n",
    "%run AB_mem_helper_funcs.py\n",
    "curwd = getcwd()\n",
    "mypath = \"data\"\n",
    "pd.options.mode.chained_assignment = None  # default='warn'"
   ]
  },
  {
   "cell_type": "code",
   "execution_count": null,
   "metadata": {},
   "outputs": [],
   "source": []
  },
  {
   "cell_type": "code",
   "execution_count": 15,
   "metadata": {},
   "outputs": [],
   "source": [
    "#find the data file paths\n",
    "dataFiles = list(walk(mypath))[0][2]\n",
    "dataFiles = Series([curwd + '\\\\' + mypath +'\\\\'+ file for file in dataFiles])\n"
   ]
  },
  {
   "cell_type": "code",
   "execution_count": 17,
   "metadata": {},
   "outputs": [
    {
     "data": {
      "text/plain": [
       "0     C:\\Users\\dtf8829\\Documents\\ABmem\\data\\PPT06_AB...\n",
       "1     C:\\Users\\dtf8829\\Documents\\ABmem\\data\\PPT07_AB...\n",
       "2     C:\\Users\\dtf8829\\Documents\\ABmem\\data\\PPT08_AB...\n",
       "3     C:\\Users\\dtf8829\\Documents\\ABmem\\data\\PPT09_AB...\n",
       "4     C:\\Users\\dtf8829\\Documents\\ABmem\\data\\PPT10_AB...\n",
       "5     C:\\Users\\dtf8829\\Documents\\ABmem\\data\\PPT11_AB...\n",
       "6     C:\\Users\\dtf8829\\Documents\\ABmem\\data\\PPT12_AB...\n",
       "7     C:\\Users\\dtf8829\\Documents\\ABmem\\data\\PPT14_AB...\n",
       "8     C:\\Users\\dtf8829\\Documents\\ABmem\\data\\PPT15_AB...\n",
       "9     C:\\Users\\dtf8829\\Documents\\ABmem\\data\\PPT16_AB...\n",
       "10    C:\\Users\\dtf8829\\Documents\\ABmem\\data\\PPT17_AB...\n",
       "11    C:\\Users\\dtf8829\\Documents\\ABmem\\data\\PPT18_AB...\n",
       "12    C:\\Users\\dtf8829\\Documents\\ABmem\\data\\PPT19_AB...\n",
       "13    C:\\Users\\dtf8829\\Documents\\ABmem\\data\\PPT20_AB...\n",
       "14    C:\\Users\\dtf8829\\Documents\\ABmem\\data\\PPT21_AB...\n",
       "15    C:\\Users\\dtf8829\\Documents\\ABmem\\data\\PPT22_AB...\n",
       "16    C:\\Users\\dtf8829\\Documents\\ABmem\\data\\PPT23_AB...\n",
       "17    C:\\Users\\dtf8829\\Documents\\ABmem\\data\\PPT24_AB...\n",
       "18    C:\\Users\\dtf8829\\Documents\\ABmem\\data\\PPT25_AB...\n",
       "19    C:\\Users\\dtf8829\\Documents\\ABmem\\data\\PPT26_AB...\n",
       "20    C:\\Users\\dtf8829\\Documents\\ABmem\\data\\PPT27_AB...\n",
       "21    C:\\Users\\dtf8829\\Documents\\ABmem\\data\\PPT28_AB...\n",
       "22    C:\\Users\\dtf8829\\Documents\\ABmem\\data\\PPT29_AB...\n",
       "23    C:\\Users\\dtf8829\\Documents\\ABmem\\data\\PPT30_AB...\n",
       "24    C:\\Users\\dtf8829\\Documents\\ABmem\\data\\PPT31_AB...\n",
       "25    C:\\Users\\dtf8829\\Documents\\ABmem\\data\\PPT32_AB...\n",
       "26    C:\\Users\\dtf8829\\Documents\\ABmem\\data\\PPT33_AB...\n",
       "27    C:\\Users\\dtf8829\\Documents\\ABmem\\data\\PPT34_AB...\n",
       "28    C:\\Users\\dtf8829\\Documents\\ABmem\\data\\PPT35_AB...\n",
       "29    C:\\Users\\dtf8829\\Documents\\ABmem\\data\\PPT36_AB...\n",
       "30    C:\\Users\\dtf8829\\Documents\\ABmem\\data\\PPT37_AB...\n",
       "31    C:\\Users\\dtf8829\\Documents\\ABmem\\data\\PPT38_AB...\n",
       "32    C:\\Users\\dtf8829\\Documents\\ABmem\\data\\PPT39_AB...\n",
       "33    C:\\Users\\dtf8829\\Documents\\ABmem\\data\\PPT40_AB...\n",
       "34    C:\\Users\\dtf8829\\Documents\\ABmem\\data\\PPT41_AB...\n",
       "35    C:\\Users\\dtf8829\\Documents\\ABmem\\data\\PPT42_AB...\n",
       "36    C:\\Users\\dtf8829\\Documents\\ABmem\\data\\PPT43_AB...\n",
       "37    C:\\Users\\dtf8829\\Documents\\ABmem\\data\\PPT44_AB...\n",
       "38    C:\\Users\\dtf8829\\Documents\\ABmem\\data\\PPT45_AB...\n",
       "39    C:\\Users\\dtf8829\\Documents\\ABmem\\data\\PPT46_AB...\n",
       "40    C:\\Users\\dtf8829\\Documents\\ABmem\\data\\PPT47_AB...\n",
       "41    C:\\Users\\dtf8829\\Documents\\ABmem\\data\\PPT48_AB...\n",
       "42    C:\\Users\\dtf8829\\Documents\\ABmem\\data\\PPT49_AB...\n",
       "43    C:\\Users\\dtf8829\\Documents\\ABmem\\data\\PPT50_AB...\n",
       "44    C:\\Users\\dtf8829\\Documents\\ABmem\\data\\PPT51_AB...\n",
       "45    C:\\Users\\dtf8829\\Documents\\ABmem\\data\\PPT52_AB...\n",
       "46    C:\\Users\\dtf8829\\Documents\\ABmem\\data\\PPT53_AB...\n",
       "47    C:\\Users\\dtf8829\\Documents\\ABmem\\data\\PPT54_AB...\n",
       "48    C:\\Users\\dtf8829\\Documents\\ABmem\\data\\PPT56_AB...\n",
       "49    C:\\Users\\dtf8829\\Documents\\ABmem\\data\\PPT57_AB...\n",
       "50    C:\\Users\\dtf8829\\Documents\\ABmem\\data\\PPT58_AB...\n",
       "51    C:\\Users\\dtf8829\\Documents\\ABmem\\data\\PPT59_AB...\n",
       "52    C:\\Users\\dtf8829\\Documents\\ABmem\\data\\PPT60_AB...\n",
       "dtype: object"
      ]
     },
     "execution_count": 17,
     "metadata": {},
     "output_type": "execute_result"
    }
   ],
   "source": [
    "dataFiles"
   ]
  },
  {
   "cell_type": "code",
   "execution_count": 19,
   "metadata": {},
   "outputs": [],
   "source": [
    "#find all the relevant summary stats for each data file\n",
    "allDat = dataFiles.map(readDataFile)"
   ]
  },
  {
   "cell_type": "code",
   "execution_count": 20,
   "metadata": {},
   "outputs": [
    {
     "data": {
      "text/html": [
       "<div>\n",
       "<style scoped>\n",
       "    .dataframe tbody tr th:only-of-type {\n",
       "        vertical-align: middle;\n",
       "    }\n",
       "\n",
       "    .dataframe tbody tr th {\n",
       "        vertical-align: top;\n",
       "    }\n",
       "\n",
       "    .dataframe thead th {\n",
       "        text-align: right;\n",
       "    }\n",
       "</style>\n",
       "<table border=\"1\" class=\"dataframe\">\n",
       "  <thead>\n",
       "    <tr style=\"text-align: right;\">\n",
       "      <th></th>\n",
       "      <th>2022-06-29_10h58.31.945</th>\n",
       "    </tr>\n",
       "  </thead>\n",
       "  <tbody>\n",
       "    <tr>\n",
       "      <th>ABT1overall</th>\n",
       "      <td>0.918301</td>\n",
       "    </tr>\n",
       "    <tr>\n",
       "      <th>ABT2overall</th>\n",
       "      <td>0.869281</td>\n",
       "    </tr>\n",
       "    <tr>\n",
       "      <th>blinkFam</th>\n",
       "      <td>4.451429</td>\n",
       "    </tr>\n",
       "    <tr>\n",
       "      <th>nonBlinkFam</th>\n",
       "      <td>4.500972</td>\n",
       "    </tr>\n",
       "    <tr>\n",
       "      <th>Lag5_T1P_T2A_T1</th>\n",
       "      <td>0.750000</td>\n",
       "    </tr>\n",
       "    <tr>\n",
       "      <th>...</th>\n",
       "      <td>...</td>\n",
       "    </tr>\n",
       "    <tr>\n",
       "      <th>Nov_2</th>\n",
       "      <td>5.000000</td>\n",
       "    </tr>\n",
       "    <tr>\n",
       "      <th>Nov_3</th>\n",
       "      <td>4.000000</td>\n",
       "    </tr>\n",
       "    <tr>\n",
       "      <th>Nov_4</th>\n",
       "      <td>3.000000</td>\n",
       "    </tr>\n",
       "    <tr>\n",
       "      <th>Nov_5</th>\n",
       "      <td>1.000000</td>\n",
       "    </tr>\n",
       "    <tr>\n",
       "      <th>Nov_6</th>\n",
       "      <td>4.000000</td>\n",
       "    </tr>\n",
       "  </tbody>\n",
       "</table>\n",
       "<p>99 rows × 1 columns</p>\n",
       "</div>"
      ],
      "text/plain": [
       "                 2022-06-29_10h58.31.945\n",
       "ABT1overall                     0.918301\n",
       "ABT2overall                     0.869281\n",
       "blinkFam                        4.451429\n",
       "nonBlinkFam                     4.500972\n",
       "Lag5_T1P_T2A_T1                 0.750000\n",
       "...                                  ...\n",
       "Nov_2                           5.000000\n",
       "Nov_3                           4.000000\n",
       "Nov_4                           3.000000\n",
       "Nov_5                           1.000000\n",
       "Nov_6                           4.000000\n",
       "\n",
       "[99 rows x 1 columns]"
      ]
     },
     "execution_count": 20,
     "metadata": {},
     "output_type": "execute_result"
    }
   ],
   "source": [
    "DataFrame(allDat[4])\n"
   ]
  },
  {
   "cell_type": "code",
   "execution_count": 21,
   "metadata": {},
   "outputs": [],
   "source": [
    "#aggregate the summaries into a dataframe\n",
    "df = DataFrame()\n",
    "for row in allDat: \n",
    "    df = df.add(DataFrame(row), fill_value = 0)\n",
    "df = df.T"
   ]
  },
  {
   "cell_type": "code",
   "execution_count": 22,
   "metadata": {},
   "outputs": [
    {
     "data": {
      "text/plain": [
       "Index(['ABT1overall', 'ABT2overall', 'DistALL_1', 'DistALL_2', 'DistALL_3',\n",
       "       'DistALL_4', 'DistALL_5', 'DistALL_6', 'DistALL_UVSD_d',\n",
       "       'DistALL_UVSD_s', 'Dist_1', 'Dist_2', 'Dist_3', 'Dist_4', 'Dist_5',\n",
       "       'Dist_6', 'Dist_UVSD_d', 'Dist_UVSD_s', 'L1blink_1', 'L1blink_2',\n",
       "       'L1blink_3', 'L1blink_4', 'L1blink_5', 'L1blink_6', 'L1blink_UVSD_d',\n",
       "       'L1blink_UVSD_s', 'L1cor_1', 'L1cor_2', 'L1cor_3', 'L1cor_4', 'L1cor_5',\n",
       "       'L1cor_6', 'L1cor_UVSD_d', 'L1cor_UVSD_s', 'L5_1', 'L5_2', 'L5_3',\n",
       "       'L5_4', 'L5_5', 'L5_6', 'L5_UVSD_d', 'L5_UVSD_s', 'Lag1_T1A_T2A_T1',\n",
       "       'Lag1_T1A_T2A_T2', 'Lag1_T1A_T2A_T2_T1', 'Lag1_T1A_T2P_T1',\n",
       "       'Lag1_T1A_T2P_T2', 'Lag1_T1A_T2P_T2_T1', 'Lag1_T1P_T2A_T1',\n",
       "       'Lag1_T1P_T2A_T2', 'Lag1_T1P_T2A_T2_T1', 'Lag1_T1P_T2P_T1',\n",
       "       'Lag1_T1P_T2P_T2', 'Lag1_T1P_T2P_T2_T1', 'Lag5_T1A_T2A_T1',\n",
       "       'Lag5_T1A_T2A_T2', 'Lag5_T1A_T2A_T2_T1', 'Lag5_T1A_T2P_T1',\n",
       "       'Lag5_T1A_T2P_T2', 'Lag5_T1A_T2P_T2_T1', 'Lag5_T1P_T2A_T1',\n",
       "       'Lag5_T1P_T2A_T2', 'Lag5_T1P_T2A_T2_T1', 'Lag5_T1P_T2P_T1',\n",
       "       'Lag5_T1P_T2P_T2', 'Lag5_T1P_T2P_T2_T1', 'NovALL_1', 'NovALL_2',\n",
       "       'NovALL_3', 'NovALL_4', 'NovALL_5', 'NovALL_6', 'Nov_1', 'Nov_2',\n",
       "       'Nov_3', 'Nov_4', 'Nov_5', 'Nov_6', 'PP1T2_mem', 'PP1blink_mem',\n",
       "       'PP1cor_mem', 'PP1miss_mem', 'PP5cor_mem', 'T1Overall', 'T2Overall',\n",
       "       'TargALL_1', 'TargALL_2', 'TargALL_3', 'TargALL_4', 'TargALL_5',\n",
       "       'TargALL_6', 'TargALL_UVSD_d', 'TargALL_UVSD_s', 'blinkFam', 'distMem',\n",
       "       'distracter_mem', 'nonBlinkFam', 'novel_mem', 'targMem'],\n",
       "      dtype='object')"
      ]
     },
     "execution_count": 22,
     "metadata": {},
     "output_type": "execute_result"
    }
   ],
   "source": [
    "df.columns"
   ]
  },
  {
   "cell_type": "code",
   "execution_count": 23,
   "metadata": {},
   "outputs": [],
   "source": [
    "df['blinkMag'] = df['Lag5_T1P_T2P_T2_T1'] - df['Lag1_T1P_T2P_T2_T1']\n",
    "df.to_csv(r'test.csv')"
   ]
  },
  {
   "cell_type": "markdown",
   "metadata": {},
   "source": [
    "Data cleaning:\n",
    "1) Participants must have at least .2 for Overall T1 % correct.\n",
    "2) Participants must have at least .4 of novel images correctly rejected in the mem phase of the study.\n",
    "3) Participants must have at least .4 for T2 % correct at lag5 on trials where both T1 and T2 were present.\n",
    "Participants failing these criteria are likely to have been unfocused throughout the task or misunderstood the instructions.\n"
   ]
  },
  {
   "cell_type": "code",
   "execution_count": 9,
   "metadata": {},
   "outputs": [],
   "source": [
    "#implement criterion 1:\n",
    "df = df.loc[df['ABT1overall']>.5, :]\n",
    "#implement criterion 2:\n",
    "df = df.loc[df['TargALL_UVSD_d']>.1, :]\n",
    "#implement criterion 3:\n",
    "df = df.loc[df['Lag5_T1P_T2P_T2']>.4, :]"
   ]
  },
  {
   "cell_type": "code",
   "execution_count": 20,
   "metadata": {},
   "outputs": [
    {
     "data": {
      "text/plain": [
       "<matplotlib.lines.Line2D at 0x17901274ac0>"
      ]
     },
     "execution_count": 20,
     "metadata": {},
     "output_type": "execute_result"
    },
    {
     "data": {
      "image/png": "[encoded data removed]",
      "text/plain": [
       "<Figure size 432x288 with 1 Axes>"
      ]
     },
     "metadata": {
      "needs_background": "light"
     },
     "output_type": "display_data"
    }
   ],
   "source": [
    "#Use this\n",
    "#how big is the attentional blink we observe? \n",
    "plt.hist(df['blinkMag'])\n",
    "plt.ylabel('count')\n",
    "plt.xlabel('T2|T1 on lag 5 - lag 1 trials')\n",
    "plt.title('Attentional blink magnitude')\n",
    "plt.axvline(x=0, color = 'k', linestyle='--')"
   ]
  },
  {
   "cell_type": "code",
   "execution_count": 13,
   "metadata": {},
   "outputs": [
    {
     "data": {
      "image/png": "[encoded data removed]",
      "text/plain": [
       "<Figure size 432x288 with 1 Axes>"
      ]
     },
     "metadata": {
      "needs_background": "light"
     },
     "output_type": "display_data"
    }
   ],
   "source": [
    "#Use this\n",
    "#does a bigger attentional blink (worse performance) lead to better memory on a subject level? \n",
    "plt.scatter(df['blinkMag'], df['TargALL_UVSD_d'])\n",
    "plt.xlabel('AB Magnitude')\n",
    "plt.ylabel('Target Memory (d\\')')\n",
    "plt.title('Scatterplot of Attentional Blink Magnitude vs Memory')\n",
    "plt.show()"
   ]
  },
  {
   "cell_type": "code",
   "execution_count": 19,
   "metadata": {},
   "outputs": [
    {
     "data": {
      "text/plain": [
       "<matplotlib.lines.Line2D at 0x1797f77d730>"
      ]
     },
     "execution_count": 19,
     "metadata": {},
     "output_type": "execute_result"
    },
    {
     "data": {
      "image/png": "[encoded data removed]",
      "text/plain": [
       "<Figure size 432x288 with 1 Axes>"
      ]
     },
     "metadata": {
      "needs_background": "light"
     },
     "output_type": "display_data"
    }
   ],
   "source": [
    "#Use this\n",
    "#does spending more time (and causing an attentional blink) on T1 lead to better memory on an item level? \n",
    "plt.hist(df['L1blink_UVSD_d'] - df['L1cor_UVSD_d'], np.linspace(-1.5,1.5,20))\n",
    "plt.ylabel('count')\n",
    "plt.xlabel('memory for targets from blink trials - for targets from no-blink trials')\n",
    "plt.title('memory is better for targets from trials with worse attention')\n",
    "plt.axvline(x=0, color = 'k', linestyle='--')"
   ]
  },
  {
   "cell_type": "code",
   "execution_count": 21,
   "metadata": {},
   "outputs": [
    {
     "data": {
      "text/plain": [
       "0.24775459949151282"
      ]
     },
     "execution_count": 21,
     "metadata": {},
     "output_type": "execute_result"
    }
   ],
   "source": [
    "np.mean(df['L1blink_UVSD_d'] - df['L1cor_UVSD_d'])"
   ]
  },
  {
   "cell_type": "code",
   "execution_count": 22,
   "metadata": {},
   "outputs": [
    {
     "data": {
      "text/plain": [
       "Ttest_1sampResult(statistic=4.589102447620353, pvalue=3.5636293408066095e-05)"
      ]
     },
     "execution_count": 22,
     "metadata": {},
     "output_type": "execute_result"
    }
   ],
   "source": [
    "from scipy.stats import ttest_1samp\n",
    "\n",
    "\n",
    "ttest_1samp(df['L1blink_UVSD_d'] - df['L1cor_UVSD_d'], 0)\n"
   ]
  },
  {
   "cell_type": "code",
   "execution_count": 23,
   "metadata": {},
   "outputs": [
    {
     "data": {
      "text/plain": [
       "Ttest_1sampResult(statistic=3.8808135131024493, pvalue=0.00033727415090790264)"
      ]
     },
     "execution_count": 23,
     "metadata": {},
     "output_type": "execute_result"
    }
   ],
   "source": [
    "ttest_1samp(df['PP1blink_mem'] - df['PP1cor_mem'], 0)\n",
    "\n"
   ]
  },
  {
   "cell_type": "code",
   "execution_count": 24,
   "metadata": {},
   "outputs": [
    {
     "data": {
      "text/plain": [
       "46"
      ]
     },
     "execution_count": 24,
     "metadata": {},
     "output_type": "execute_result"
    }
   ],
   "source": [
    "len(df)"
   ]
  },
  {
   "cell_type": "code",
   "execution_count": 30,
   "metadata": {},
   "outputs": [
    {
     "data": {
      "text/plain": [
       "(array([3., 2., 2., 8., 8., 8., 9., 2., 1., 3.]),\n",
       " array([0.09921457, 0.31140234, 0.52359011, 0.73577789, 0.94796566,\n",
       "        1.16015344, 1.37234121, 1.58452898, 1.79671676, 2.00890453,\n",
       "        2.22109231]),\n",
       " <BarContainer object of 10 artists>)"
      ]
     },
     "execution_count": 30,
     "metadata": {},
     "output_type": "execute_result"
    },
    {
     "data": {
      "image/png": "[encoded data removed]",
      "text/plain": [
       "<Figure size 432x288 with 1 Axes>"
      ]
     },
     "metadata": {
      "needs_background": "light"
     },
     "output_type": "display_data"
    }
   ],
   "source": [
    "import matplotlib.pyplot as plt\n",
    "import numpy as np\n",
    "fig = plt.figure()\n",
    "#data\n",
    "\n",
    "plt.hist(df['TargALL_UVSD_d'], alpha=0.5)\n",
    "\n",
    "\n",
    "\n",
    "plt.hist(df['DistALL_UVSD_d'], alpha=0.5)\n"
   ]
  },
  {
   "cell_type": "code",
   "execution_count": 25,
   "metadata": {},
   "outputs": [
    {
     "data": {
      "image/png": "[encoded data removed]",
      "text/plain": [
       "<Figure size 432x288 with 1 Axes>"
      ]
     },
     "metadata": {
      "needs_background": "light"
     },
     "output_type": "display_data"
    }
   ],
   "source": [
    "#use this\n",
    "ColumnMeans = df.apply(np.mean)\n",
    "import matplotlib.pyplot as plt\n",
    "fig = plt.figure()\n",
    "ax = fig.add_axes([0,0,1,1])\n",
    "section = ['Target', 'Distractor']\n",
    "Memory = ['TargALL_UVSD_d', 'DistALL_UVSD_d']\n",
    "ax.bar(section,ColumnMeans[Memory])\n",
    "plt.ylabel('d\\' memory score')\n",
    "plt.title('memory for different types of')\n",
    "plt.show()"
   ]
  },
  {
   "cell_type": "code",
   "execution_count": 48,
   "metadata": {},
   "outputs": [],
   "source": [
    "ColumnMeans = df.apply(np.mean)"
   ]
  },
  {
   "cell_type": "code",
   "execution_count": 31,
   "metadata": {},
   "outputs": [
    {
     "data": {
      "text/plain": [
       "TargALL_UVSD_d    1.398345\n",
       "DistALL_UVSD_d    1.151530\n",
       "dtype: float64"
      ]
     },
     "execution_count": 31,
     "metadata": {},
     "output_type": "execute_result"
    }
   ],
   "source": [
    "ColumnMeans[Memory]"
   ]
  },
  {
   "cell_type": "code",
   "execution_count": 50,
   "metadata": {},
   "outputs": [
    {
     "data": {
      "text/plain": [
       "(array([0., 0., 0., 0., 0., 1., 0., 0., 0., 0.]),\n",
       " array([0.07158866, 0.17158866, 0.27158866, 0.37158866, 0.47158866,\n",
       "        0.57158866, 0.67158866, 0.77158866, 0.87158866, 0.97158866,\n",
       "        1.07158866]),\n",
       " <BarContainer object of 10 artists>)"
      ]
     },
     "execution_count": 50,
     "metadata": {},
     "output_type": "execute_result"
    },
    {
     "data": {
      "image/png": "[encoded data removed]",
      "text/plain": [
       "<Figure size 432x288 with 1 Axes>"
      ]
     },
     "metadata": {
      "needs_background": "light"
     },
     "output_type": "display_data"
    }
   ],
   "source": [
    "ColumnMeans = df.apply(np.mean)\n",
    "import matplotlib.pyplot as plt\n",
    "import numpy as np\n",
    "fig = plt.figure()\n",
    "#data\n",
    "\n",
    "plt.hist(ColumnMeans['PP1cor_mem'], alpha=0.5)\n",
    "\n",
    "\n",
    "\n",
    "plt.hist(ColumnMeans['PP5cor_mem'], alpha=0.5)\n",
    "\n",
    "\n"
   ]
  },
  {
   "cell_type": "code",
   "execution_count": 51,
   "metadata": {},
   "outputs": [
    {
     "data": {
      "text/plain": [
       "(array([0., 0., 0., 0., 0., 1., 0., 0., 0., 0.]),\n",
       " array([0.22551462, 0.32551462, 0.42551462, 0.52551462, 0.62551462,\n",
       "        0.72551462, 0.82551462, 0.92551462, 1.02551462, 1.12551462,\n",
       "        1.22551462]),\n",
       " <BarContainer object of 10 artists>)"
      ]
     },
     "execution_count": 51,
     "metadata": {},
     "output_type": "execute_result"
    },
    {
     "data": {
      "image/png": "[encoded data removed]",
      "text/plain": [
       "<Figure size 432x288 with 1 Axes>"
      ]
     },
     "metadata": {
      "needs_background": "light"
     },
     "output_type": "display_data"
    }
   ],
   "source": [
    "ColumnMeans = df.apply(np.mean)\n",
    "import matplotlib.pyplot as plt\n",
    "import numpy as np\n",
    "fig = plt.figure()\n",
    "#data\n",
    "\n",
    "plt.hist(ColumnMeans['Lag1_T1P_T2P_T2_T1'], alpha=0.5)\n",
    "\n",
    "\n",
    "\n",
    "plt.hist(ColumnMeans['Lag5_T1P_T2P_T2_T1'], alpha=0.5)\n",
    "\n",
    "\n"
   ]
  },
  {
   "cell_type": "code",
   "execution_count": 37,
   "metadata": {},
   "outputs": [
    {
     "data": {
      "text/plain": [
       "(0.0, 3.0)"
      ]
     },
     "execution_count": 37,
     "metadata": {},
     "output_type": "execute_result"
    },
    {
     "data": {
      "image/png": "[encoded data removed]",
      "text/plain": [
       "<Figure size 432x288 with 2 Axes>"
      ]
     },
     "metadata": {
      "needs_background": "light"
     },
     "output_type": "display_data"
    }
   ],
   "source": [
    "#use 1 and 3\n",
    "import matplotlib.pyplot as plt\n",
    "import numpy as np\n",
    "fig = plt.figure()\n",
    "ax1 = fig.add_subplot(2,1,1)\n",
    "plt.hist(df['L1cor_UVSD_d'], np.linspace(0,3,30), alpha=0.5)\n",
    "plt.xlim([0,3])\n",
    "ax3 = fig.add_subplot(2,1,2)\n",
    "plt.hist(df['L1blink_UVSD_d'],np.linspace(0,3,30), alpha=0.5)\n",
    "plt.xlim([0,3])"
   ]
  },
  {
   "cell_type": "code",
   "execution_count": 53,
   "metadata": {},
   "outputs": [
    {
     "data": {
      "text/html": [
       "<div>\n",
       "<style scoped>\n",
       "    .dataframe tbody tr th:only-of-type {\n",
       "        vertical-align: middle;\n",
       "    }\n",
       "\n",
       "    .dataframe tbody tr th {\n",
       "        vertical-align: top;\n",
       "    }\n",
       "\n",
       "    .dataframe thead th {\n",
       "        text-align: right;\n",
       "    }\n",
       "</style>\n",
       "<table border=\"1\" class=\"dataframe\">\n",
       "  <thead>\n",
       "    <tr style=\"text-align: right;\">\n",
       "      <th></th>\n",
       "      <th>ABT1overall</th>\n",
       "      <th>ABT2overall</th>\n",
       "      <th>Lag1_T1A_T2A_T1</th>\n",
       "      <th>Lag1_T1A_T2A_T2</th>\n",
       "      <th>Lag1_T1A_T2A_T2_T1</th>\n",
       "      <th>Lag1_T1A_T2P_T1</th>\n",
       "      <th>Lag1_T1A_T2P_T2</th>\n",
       "      <th>Lag1_T1A_T2P_T2_T1</th>\n",
       "      <th>Lag1_T1P_T2A_T1</th>\n",
       "      <th>Lag1_T1P_T2A_T2</th>\n",
       "      <th>...</th>\n",
       "      <th>PP1cor_mem</th>\n",
       "      <th>PP1miss_mem</th>\n",
       "      <th>PP5cor_mem</th>\n",
       "      <th>T1Overall</th>\n",
       "      <th>T2Overall</th>\n",
       "      <th>distMem</th>\n",
       "      <th>distracter_mem</th>\n",
       "      <th>novel_mem</th>\n",
       "      <th>targMem</th>\n",
       "      <th>blinkMag</th>\n",
       "    </tr>\n",
       "  </thead>\n",
       "  <tbody>\n",
       "    <tr>\n",
       "      <th>2022-06-29_10h58.31.945</th>\n",
       "      <td>0.918301</td>\n",
       "      <td>0.869281</td>\n",
       "      <td>1.0</td>\n",
       "      <td>0.9</td>\n",
       "      <td>0.900000</td>\n",
       "      <td>0.964286</td>\n",
       "      <td>0.928571</td>\n",
       "      <td>0.925926</td>\n",
       "      <td>0.892857</td>\n",
       "      <td>0.821429</td>\n",
       "      <td>...</td>\n",
       "      <td>0.338028</td>\n",
       "      <td>0.000000</td>\n",
       "      <td>0.444444</td>\n",
       "      <td>0.382114</td>\n",
       "      <td>0.355932</td>\n",
       "      <td>0.852321</td>\n",
       "      <td>0.480769</td>\n",
       "      <td>0.956757</td>\n",
       "      <td>0.724590</td>\n",
       "      <td>-0.062500</td>\n",
       "    </tr>\n",
       "    <tr>\n",
       "      <th>2022-06-30_09h08.37.319</th>\n",
       "      <td>0.084967</td>\n",
       "      <td>0.179739</td>\n",
       "      <td>0.0</td>\n",
       "      <td>0.1</td>\n",
       "      <td>NaN</td>\n",
       "      <td>0.035714</td>\n",
       "      <td>0.214286</td>\n",
       "      <td>0.000000</td>\n",
       "      <td>0.142857</td>\n",
       "      <td>0.035714</td>\n",
       "      <td>...</td>\n",
       "      <td>0.000000</td>\n",
       "      <td>0.491228</td>\n",
       "      <td>0.000000</td>\n",
       "      <td>0.000000</td>\n",
       "      <td>0.529412</td>\n",
       "      <td>0.873418</td>\n",
       "      <td>0.576923</td>\n",
       "      <td>0.956757</td>\n",
       "      <td>0.797794</td>\n",
       "      <td>0.166667</td>\n",
       "    </tr>\n",
       "    <tr>\n",
       "      <th>2022-07-01_17h04.12.064</th>\n",
       "      <td>0.862745</td>\n",
       "      <td>0.611111</td>\n",
       "      <td>1.0</td>\n",
       "      <td>0.6</td>\n",
       "      <td>0.600000</td>\n",
       "      <td>1.000000</td>\n",
       "      <td>0.642857</td>\n",
       "      <td>0.642857</td>\n",
       "      <td>0.821429</td>\n",
       "      <td>0.857143</td>\n",
       "      <td>...</td>\n",
       "      <td>0.222222</td>\n",
       "      <td>0.200000</td>\n",
       "      <td>0.200000</td>\n",
       "      <td>0.227273</td>\n",
       "      <td>0.173913</td>\n",
       "      <td>0.801688</td>\n",
       "      <td>0.134615</td>\n",
       "      <td>0.989189</td>\n",
       "      <td>0.700680</td>\n",
       "      <td>0.277992</td>\n",
       "    </tr>\n",
       "    <tr>\n",
       "      <th>2022-07-04_13h57.02.679</th>\n",
       "      <td>0.875817</td>\n",
       "      <td>0.565359</td>\n",
       "      <td>0.9</td>\n",
       "      <td>1.0</td>\n",
       "      <td>1.000000</td>\n",
       "      <td>1.000000</td>\n",
       "      <td>0.321429</td>\n",
       "      <td>0.321429</td>\n",
       "      <td>0.821429</td>\n",
       "      <td>0.928571</td>\n",
       "      <td>...</td>\n",
       "      <td>0.392857</td>\n",
       "      <td>0.000000</td>\n",
       "      <td>0.333333</td>\n",
       "      <td>0.370690</td>\n",
       "      <td>0.343750</td>\n",
       "      <td>0.797468</td>\n",
       "      <td>0.442308</td>\n",
       "      <td>0.897297</td>\n",
       "      <td>0.685811</td>\n",
       "      <td>0.174253</td>\n",
       "    </tr>\n",
       "    <tr>\n",
       "      <th>2022-07-06_10h02.29.464</th>\n",
       "      <td>0.784314</td>\n",
       "      <td>0.637255</td>\n",
       "      <td>0.9</td>\n",
       "      <td>0.9</td>\n",
       "      <td>0.888889</td>\n",
       "      <td>1.000000</td>\n",
       "      <td>0.571429</td>\n",
       "      <td>0.571429</td>\n",
       "      <td>0.642857</td>\n",
       "      <td>0.928571</td>\n",
       "      <td>...</td>\n",
       "      <td>0.148148</td>\n",
       "      <td>0.200000</td>\n",
       "      <td>0.181818</td>\n",
       "      <td>0.238095</td>\n",
       "      <td>0.202899</td>\n",
       "      <td>0.392405</td>\n",
       "      <td>0.346154</td>\n",
       "      <td>0.405405</td>\n",
       "      <td>0.350515</td>\n",
       "      <td>0.203578</td>\n",
       "    </tr>\n",
       "    <tr>\n",
       "      <th>2022-07-07_13h31.02.890</th>\n",
       "      <td>0.869281</td>\n",
       "      <td>0.581699</td>\n",
       "      <td>1.0</td>\n",
       "      <td>1.0</td>\n",
       "      <td>1.000000</td>\n",
       "      <td>1.000000</td>\n",
       "      <td>0.607143</td>\n",
       "      <td>0.607143</td>\n",
       "      <td>0.714286</td>\n",
       "      <td>1.000000</td>\n",
       "      <td>...</td>\n",
       "      <td>0.111111</td>\n",
       "      <td>1.000000</td>\n",
       "      <td>0.130435</td>\n",
       "      <td>0.157895</td>\n",
       "      <td>0.214286</td>\n",
       "      <td>0.324895</td>\n",
       "      <td>0.557692</td>\n",
       "      <td>0.259459</td>\n",
       "      <td>0.246575</td>\n",
       "      <td>0.549784</td>\n",
       "    </tr>\n",
       "    <tr>\n",
       "      <th>2022-07-07_14h52.56.649</th>\n",
       "      <td>0.725490</td>\n",
       "      <td>0.415033</td>\n",
       "      <td>0.9</td>\n",
       "      <td>1.0</td>\n",
       "      <td>1.000000</td>\n",
       "      <td>1.000000</td>\n",
       "      <td>0.071429</td>\n",
       "      <td>0.071429</td>\n",
       "      <td>0.642857</td>\n",
       "      <td>1.000000</td>\n",
       "      <td>...</td>\n",
       "      <td>0.222222</td>\n",
       "      <td>0.187500</td>\n",
       "      <td>0.285714</td>\n",
       "      <td>0.277778</td>\n",
       "      <td>0.266667</td>\n",
       "      <td>0.717300</td>\n",
       "      <td>0.134615</td>\n",
       "      <td>0.881081</td>\n",
       "      <td>0.670290</td>\n",
       "      <td>0.168564</td>\n",
       "    </tr>\n",
       "    <tr>\n",
       "      <th>2022-07-08_10h00.24.019</th>\n",
       "      <td>0.803922</td>\n",
       "      <td>0.683007</td>\n",
       "      <td>0.8</td>\n",
       "      <td>0.3</td>\n",
       "      <td>0.250000</td>\n",
       "      <td>0.785714</td>\n",
       "      <td>0.464286</td>\n",
       "      <td>0.454545</td>\n",
       "      <td>0.821429</td>\n",
       "      <td>0.428571</td>\n",
       "      <td>...</td>\n",
       "      <td>0.446429</td>\n",
       "      <td>0.333333</td>\n",
       "      <td>0.593750</td>\n",
       "      <td>0.451327</td>\n",
       "      <td>0.475728</td>\n",
       "      <td>0.569620</td>\n",
       "      <td>0.403846</td>\n",
       "      <td>0.616216</td>\n",
       "      <td>0.551495</td>\n",
       "      <td>0.122556</td>\n",
       "    </tr>\n",
       "  </tbody>\n",
       "</table>\n",
       "<p>8 rows × 38 columns</p>\n",
       "</div>"
      ],
      "text/plain": [
       "                         ABT1overall  ABT2overall  Lag1_T1A_T2A_T1  \\\n",
       "2022-06-29_10h58.31.945     0.918301     0.869281              1.0   \n",
       "2022-06-30_09h08.37.319     0.084967     0.179739              0.0   \n",
       "2022-07-01_17h04.12.064     0.862745     0.611111              1.0   \n",
       "2022-07-04_13h57.02.679     0.875817     0.565359              0.9   \n",
       "2022-07-06_10h02.29.464     0.784314     0.637255              0.9   \n",
       "2022-07-07_13h31.02.890     0.869281     0.581699              1.0   \n",
       "2022-07-07_14h52.56.649     0.725490     0.415033              0.9   \n",
       "2022-07-08_10h00.24.019     0.803922     0.683007              0.8   \n",
       "\n",
       "                         Lag1_T1A_T2A_T2  Lag1_T1A_T2A_T2_T1  Lag1_T1A_T2P_T1  \\\n",
       "2022-06-29_10h58.31.945              0.9            0.900000         0.964286   \n",
       "2022-06-30_09h08.37.319              0.1                 NaN         0.035714   \n",
       "2022-07-01_17h04.12.064              0.6            0.600000         1.000000   \n",
       "2022-07-04_13h57.02.679              1.0            1.000000         1.000000   \n",
       "2022-07-06_10h02.29.464              0.9            0.888889         1.000000   \n",
       "2022-07-07_13h31.02.890              1.0            1.000000         1.000000   \n",
       "2022-07-07_14h52.56.649              1.0            1.000000         1.000000   \n",
       "2022-07-08_10h00.24.019              0.3            0.250000         0.785714   \n",
       "\n",
       "                         Lag1_T1A_T2P_T2  Lag1_T1A_T2P_T2_T1  Lag1_T1P_T2A_T1  \\\n",
       "2022-06-29_10h58.31.945         0.928571            0.925926         0.892857   \n",
       "2022-06-30_09h08.37.319         0.214286            0.000000         0.142857   \n",
       "2022-07-01_17h04.12.064         0.642857            0.642857         0.821429   \n",
       "2022-07-04_13h57.02.679         0.321429            0.321429         0.821429   \n",
       "2022-07-06_10h02.29.464         0.571429            0.571429         0.642857   \n",
       "2022-07-07_13h31.02.890         0.607143            0.607143         0.714286   \n",
       "2022-07-07_14h52.56.649         0.071429            0.071429         0.642857   \n",
       "2022-07-08_10h00.24.019         0.464286            0.454545         0.821429   \n",
       "\n",
       "                         Lag1_T1P_T2A_T2  ...  PP1cor_mem  PP1miss_mem  \\\n",
       "2022-06-29_10h58.31.945         0.821429  ...    0.338028     0.000000   \n",
       "2022-06-30_09h08.37.319         0.035714  ...    0.000000     0.491228   \n",
       "2022-07-01_17h04.12.064         0.857143  ...    0.222222     0.200000   \n",
       "2022-07-04_13h57.02.679         0.928571  ...    0.392857     0.000000   \n",
       "2022-07-06_10h02.29.464         0.928571  ...    0.148148     0.200000   \n",
       "2022-07-07_13h31.02.890         1.000000  ...    0.111111     1.000000   \n",
       "2022-07-07_14h52.56.649         1.000000  ...    0.222222     0.187500   \n",
       "2022-07-08_10h00.24.019         0.428571  ...    0.446429     0.333333   \n",
       "\n",
       "                         PP5cor_mem  T1Overall  T2Overall   distMem  \\\n",
       "2022-06-29_10h58.31.945    0.444444   0.382114   0.355932  0.852321   \n",
       "2022-06-30_09h08.37.319    0.000000   0.000000   0.529412  0.873418   \n",
       "2022-07-01_17h04.12.064    0.200000   0.227273   0.173913  0.801688   \n",
       "2022-07-04_13h57.02.679    0.333333   0.370690   0.343750  0.797468   \n",
       "2022-07-06_10h02.29.464    0.181818   0.238095   0.202899  0.392405   \n",
       "2022-07-07_13h31.02.890    0.130435   0.157895   0.214286  0.324895   \n",
       "2022-07-07_14h52.56.649    0.285714   0.277778   0.266667  0.717300   \n",
       "2022-07-08_10h00.24.019    0.593750   0.451327   0.475728  0.569620   \n",
       "\n",
       "                         distracter_mem  novel_mem   targMem  blinkMag  \n",
       "2022-06-29_10h58.31.945        0.480769   0.956757  0.724590 -0.062500  \n",
       "2022-06-30_09h08.37.319        0.576923   0.956757  0.797794  0.166667  \n",
       "2022-07-01_17h04.12.064        0.134615   0.989189  0.700680  0.277992  \n",
       "2022-07-04_13h57.02.679        0.442308   0.897297  0.685811  0.174253  \n",
       "2022-07-06_10h02.29.464        0.346154   0.405405  0.350515  0.203578  \n",
       "2022-07-07_13h31.02.890        0.557692   0.259459  0.246575  0.549784  \n",
       "2022-07-07_14h52.56.649        0.134615   0.881081  0.670290  0.168564  \n",
       "2022-07-08_10h00.24.019        0.403846   0.616216  0.551495  0.122556  \n",
       "\n",
       "[8 rows x 38 columns]"
      ]
     },
     "execution_count": 53,
     "metadata": {},
     "output_type": "execute_result"
    }
   ],
   "source": [
    "df.loc[df['PP1blink_mem']<0.5,:]"
   ]
  },
  {
   "cell_type": "code",
   "execution_count": 54,
   "metadata": {},
   "outputs": [
    {
     "data": {
      "text/plain": [
       "(array([ 1.,  1.,  3.,  3.,  1.,  6., 13., 14.,  7.,  4.]),\n",
       " array([0.        , 0.08717949, 0.17435897, 0.26153846, 0.34871795,\n",
       "        0.43589744, 0.52307692, 0.61025641, 0.6974359 , 0.78461538,\n",
       "        0.87179487]),\n",
       " <BarContainer object of 10 artists>)"
      ]
     },
     "execution_count": 54,
     "metadata": {},
     "output_type": "execute_result"
    },
    {
     "data": {
      "image/png": "[encoded data removed]",
      "text/plain": [
       "<Figure size 432x288 with 2 Axes>"
      ]
     },
     "metadata": {
      "needs_background": "light"
     },
     "output_type": "display_data"
    }
   ],
   "source": [
    "import matplotlib.pyplot as plt\n",
    "import numpy as np\n",
    "fig = plt.figure()\n",
    "ax1 = fig.add_subplot(1,2,1)\n",
    "plt.hist(df['PP1cor_mem'], alpha=0.5)\n",
    "ax2 = fig.add_subplot(1,2,2)\n",
    "plt.hist(df['PP5cor_mem'], alpha=0.5)\n"
   ]
  },
  {
   "cell_type": "code",
   "execution_count": 55,
   "metadata": {},
   "outputs": [
    {
     "data": {
      "image/png": "[encoded data removed]",
      "text/plain": [
       "<Figure size 432x288 with 1 Axes>"
      ]
     },
     "metadata": {
      "needs_background": "light"
     },
     "output_type": "display_data"
    }
   ],
   "source": [
    "ColumnMeans = df.apply(np.mean)\n",
    "ColumnSD = df.apply(np.std)\n",
    "import matplotlib.pyplot as plt\n",
    "fig = plt.figure()\n",
    "ax = fig.add_axes([0,0,1,1])\n",
    "section = ['PP1', 'PP5', 'PP1blink', 'T1Overall', 'T2Overall']\n",
    "CorMem = ['PP1cor_mem', 'PP5cor_mem', 'PP1blink_mem', 'T1Overall', 'T2Overall']\n",
    "ax.bar(section,ColumnMeans[CorMem])\n",
    "plt.ylim([0.4,0.7])\n",
    "plt.show()"
   ]
  },
  {
   "cell_type": "code",
   "execution_count": 56,
   "metadata": {},
   "outputs": [
    {
     "data": {
      "text/plain": [
       "ABT1overall           0.115956\n",
       "ABT2overall           0.134441\n",
       "Lag1_T1A_T2A_T1       0.143545\n",
       "Lag1_T1A_T2A_T2       0.202477\n",
       "Lag1_T1A_T2A_T2_T1    0.178986\n",
       "Lag1_T1A_T2P_T1       0.142590\n",
       "Lag1_T1A_T2P_T2       0.219024\n",
       "Lag1_T1A_T2P_T2_T1    0.226854\n",
       "Lag1_T1P_T2A_T1       0.118675\n",
       "Lag1_T1P_T2A_T2       0.174157\n",
       "Lag1_T1P_T2A_T2_T1    0.185066\n",
       "Lag1_T1P_T2P_T1       0.122473\n",
       "Lag1_T1P_T2P_T2       0.191982\n",
       "Lag1_T1P_T2P_T2_T1    0.204221\n",
       "Lag5_T1A_T2A_T1       0.153237\n",
       "Lag5_T1A_T2A_T2       0.227325\n",
       "Lag5_T1A_T2A_T2_T1    0.197946\n",
       "Lag5_T1A_T2P_T1       0.141237\n",
       "Lag5_T1A_T2P_T2       0.176422\n",
       "Lag5_T1A_T2P_T2_T1    0.193390\n",
       "Lag5_T1P_T2A_T1       0.121630\n",
       "Lag5_T1P_T2A_T2       0.167493\n",
       "Lag5_T1P_T2A_T2_T1    0.174781\n",
       "Lag5_T1P_T2P_T1       0.123608\n",
       "Lag5_T1P_T2P_T2       0.185455\n",
       "Lag5_T1P_T2P_T2_T1    0.178508\n",
       "PP1T2_mem             0.260273\n",
       "PP1blink_mem          0.197281\n",
       "PP1cor_mem            0.191442\n",
       "PP1miss_mem           0.318603\n",
       "PP5cor_mem            0.182946\n",
       "T1Overall             0.176163\n",
       "T2Overall             0.145209\n",
       "distMem               0.111496\n",
       "distracter_mem        0.171136\n",
       "novel_mem             0.142807\n",
       "targMem               0.116087\n",
       "blinkMag              0.143915\n",
       "dtype: float64"
      ]
     },
     "execution_count": 56,
     "metadata": {},
     "output_type": "execute_result"
    }
   ],
   "source": [
    "ColumnSD"
   ]
  },
  {
   "cell_type": "code",
   "execution_count": 57,
   "metadata": {},
   "outputs": [
    {
     "data": {
      "text/plain": [
       "0.044721359549995794"
      ]
     },
     "execution_count": 57,
     "metadata": {},
     "output_type": "execute_result"
    }
   ],
   "source": [
    ".2/np.sqrt(20)"
   ]
  },
  {
   "cell_type": "code",
   "execution_count": 38,
   "metadata": {},
   "outputs": [
    {
     "data": {
      "image/png": "[encoded data removed]",
      "text/plain": [
       "<Figure size 432x288 with 1 Axes>"
      ]
     },
     "metadata": {
      "needs_background": "light"
     },
     "output_type": "display_data"
    }
   ],
   "source": [
    "#use this\n",
    "ColumnMeans = df.apply(np.mean)\n",
    "import matplotlib.pyplot as plt\n",
    "fig = plt.figure()\n",
    "ax = fig.add_axes([0,0,1,1])\n",
    "section = ['Lag1', 'Lag5']\n",
    "CorMem = ['Lag1_T1P_T2P_T2_T1', 'Lag5_T1P_T2P_T2_T1']\n",
    "ax.bar(section,ColumnMeans[CorMem])\n",
    "plt.xlabel('Lag')\n",
    "plt.ylabel('% T2 Correct')\n",
    "plt.title('Scatterplot of the percentage of T2 correctly identified at Lag1 and Lag5')\n",
    "plt.show()\n"
   ]
  },
  {
   "cell_type": "code",
   "execution_count": 59,
   "metadata": {},
   "outputs": [
    {
     "data": {
      "image/png": "[encoded data removed]",
      "text/plain": [
       "<Figure size 432x288 with 1 Axes>"
      ]
     },
     "metadata": {
      "needs_background": "light"
     },
     "output_type": "display_data"
    }
   ],
   "source": [
    "ColumnMeans = df.apply(np.mean)\n",
    "import matplotlib.pyplot as plt\n",
    "fig = plt.figure()\n",
    "ax = fig.add_axes([0,0,1,1])\n",
    "section = ['Lag1', 'Lag5']\n",
    "CorMem = ['Lag1_T1P_T2P_T1', 'Lag5_T1P_T2P_T1']\n",
    "ax.bar(section,ColumnMeans[CorMem])\n",
    "\n",
    "plt.show()\n"
   ]
  },
  {
   "cell_type": "code",
   "execution_count": 60,
   "metadata": {},
   "outputs": [
    {
     "ename": "KeyError",
     "evalue": "'key of type tuple not found and not a MultiIndex'",
     "output_type": "error",
     "traceback": [
      "\u001b[1;31m---------------------------------------------------------------------------\u001b[0m",
      "\u001b[1;31mKeyError\u001b[0m                                  Traceback (most recent call last)",
      "Input \u001b[1;32mIn [60]\u001b[0m, in \u001b[0;36m<cell line: 16>\u001b[1;34m()\u001b[0m\n\u001b[0;32m     14\u001b[0m Memory \u001b[38;5;241m=\u001b[39m [\u001b[38;5;124m'\u001b[39m\u001b[38;5;124mtargMem\u001b[39m\u001b[38;5;124m'\u001b[39m, \u001b[38;5;124m'\u001b[39m\u001b[38;5;124mdistracter_mem\u001b[39m\u001b[38;5;124m'\u001b[39m, \u001b[38;5;124m'\u001b[39m\u001b[38;5;124mnovel_mem\u001b[39m\u001b[38;5;124m'\u001b[39m]\n\u001b[0;32m     15\u001b[0m ax\u001b[38;5;241m.\u001b[39mbar(section,ColumnMeans[Memory])\n\u001b[1;32m---> 16\u001b[0m error \u001b[38;5;241m=\u001b[39m [\u001b[43mColumnSD\u001b[49m\u001b[43m[\u001b[49m\u001b[38;5;124;43m'\u001b[39;49m\u001b[38;5;124;43mtargMem\u001b[39;49m\u001b[38;5;124;43m'\u001b[39;49m\u001b[43m,\u001b[49m\u001b[43m \u001b[49m\u001b[38;5;124;43m'\u001b[39;49m\u001b[38;5;124;43mdistracter_mem\u001b[39;49m\u001b[38;5;124;43m'\u001b[39;49m\u001b[43m,\u001b[49m\u001b[43m \u001b[49m\u001b[38;5;124;43m'\u001b[39;49m\u001b[38;5;124;43mnovel_mem\u001b[39;49m\u001b[38;5;124;43m'\u001b[39;49m\u001b[43m]\u001b[49m]\n\u001b[0;32m     17\u001b[0m plt\u001b[38;5;241m.\u001b[39mshow()\n",
      "File \u001b[1;32m~\\anaconda3\\lib\\site-packages\\pandas\\core\\series.py:984\u001b[0m, in \u001b[0;36mSeries.__getitem__\u001b[1;34m(self, key)\u001b[0m\n\u001b[0;32m    981\u001b[0m     key \u001b[38;5;241m=\u001b[39m np\u001b[38;5;241m.\u001b[39masarray(key, dtype\u001b[38;5;241m=\u001b[39m\u001b[38;5;28mbool\u001b[39m)\n\u001b[0;32m    982\u001b[0m     \u001b[38;5;28;01mreturn\u001b[39;00m \u001b[38;5;28mself\u001b[39m\u001b[38;5;241m.\u001b[39m_get_values(key)\n\u001b[1;32m--> 984\u001b[0m \u001b[38;5;28;01mreturn\u001b[39;00m \u001b[38;5;28;43mself\u001b[39;49m\u001b[38;5;241;43m.\u001b[39;49m\u001b[43m_get_with\u001b[49m\u001b[43m(\u001b[49m\u001b[43mkey\u001b[49m\u001b[43m)\u001b[49m\n",
      "File \u001b[1;32m~\\anaconda3\\lib\\site-packages\\pandas\\core\\series.py:999\u001b[0m, in \u001b[0;36mSeries._get_with\u001b[1;34m(self, key)\u001b[0m\n\u001b[0;32m    994\u001b[0m     \u001b[38;5;28;01mraise\u001b[39;00m \u001b[38;5;167;01mTypeError\u001b[39;00m(\n\u001b[0;32m    995\u001b[0m         \u001b[38;5;124m\"\u001b[39m\u001b[38;5;124mIndexing a Series with DataFrame is not \u001b[39m\u001b[38;5;124m\"\u001b[39m\n\u001b[0;32m    996\u001b[0m         \u001b[38;5;124m\"\u001b[39m\u001b[38;5;124msupported, use the appropriate DataFrame column\u001b[39m\u001b[38;5;124m\"\u001b[39m\n\u001b[0;32m    997\u001b[0m     )\n\u001b[0;32m    998\u001b[0m \u001b[38;5;28;01melif\u001b[39;00m \u001b[38;5;28misinstance\u001b[39m(key, \u001b[38;5;28mtuple\u001b[39m):\n\u001b[1;32m--> 999\u001b[0m     \u001b[38;5;28;01mreturn\u001b[39;00m \u001b[38;5;28;43mself\u001b[39;49m\u001b[38;5;241;43m.\u001b[39;49m\u001b[43m_get_values_tuple\u001b[49m\u001b[43m(\u001b[49m\u001b[43mkey\u001b[49m\u001b[43m)\u001b[49m\n\u001b[0;32m   1001\u001b[0m \u001b[38;5;28;01melif\u001b[39;00m \u001b[38;5;129;01mnot\u001b[39;00m is_list_like(key):\n\u001b[0;32m   1002\u001b[0m     \u001b[38;5;66;03m# e.g. scalars that aren't recognized by lib.is_scalar, GH#32684\u001b[39;00m\n\u001b[0;32m   1003\u001b[0m     \u001b[38;5;28;01mreturn\u001b[39;00m \u001b[38;5;28mself\u001b[39m\u001b[38;5;241m.\u001b[39mloc[key]\n",
      "File \u001b[1;32m~\\anaconda3\\lib\\site-packages\\pandas\\core\\series.py:1034\u001b[0m, in \u001b[0;36mSeries._get_values_tuple\u001b[1;34m(self, key)\u001b[0m\n\u001b[0;32m   1031\u001b[0m     \u001b[38;5;28;01mreturn\u001b[39;00m result\n\u001b[0;32m   1033\u001b[0m \u001b[38;5;28;01mif\u001b[39;00m \u001b[38;5;129;01mnot\u001b[39;00m \u001b[38;5;28misinstance\u001b[39m(\u001b[38;5;28mself\u001b[39m\u001b[38;5;241m.\u001b[39mindex, MultiIndex):\n\u001b[1;32m-> 1034\u001b[0m     \u001b[38;5;28;01mraise\u001b[39;00m \u001b[38;5;167;01mKeyError\u001b[39;00m(\u001b[38;5;124m\"\u001b[39m\u001b[38;5;124mkey of type tuple not found and not a MultiIndex\u001b[39m\u001b[38;5;124m\"\u001b[39m)\n\u001b[0;32m   1036\u001b[0m \u001b[38;5;66;03m# If key is contained, would have returned by now\u001b[39;00m\n\u001b[0;32m   1037\u001b[0m indexer, new_index \u001b[38;5;241m=\u001b[39m \u001b[38;5;28mself\u001b[39m\u001b[38;5;241m.\u001b[39mindex\u001b[38;5;241m.\u001b[39mget_loc_level(key)\n",
      "\u001b[1;31mKeyError\u001b[0m: 'key of type tuple not found and not a MultiIndex'"
     ]
    },
    {
     "data": {
      "image/png": "[encoded data removed]",
      "text/plain": [
       "<Figure size 432x288 with 1 Axes>"
      ]
     },
     "metadata": {
      "needs_background": "light"
     },
     "output_type": "display_data"
    }
   ],
   "source": [
    "#calculate means\n",
    "ColumnMeans = df.apply(np.mean)\n",
    "#calculate the standard deviation\n",
    "ColumnSD = df.apply(np.std)\n",
    "\n",
    "import numpy as np\n",
    "import matplotlib.pyplot as plt\n",
    "%matplotlib inline\n",
    "fig = plt.figure()\n",
    "ax = fig.add_axes([0,0,1,1])\n",
    "\n",
    "#data\n",
    "section = ['Target', 'Distractor', 'Novel']\n",
    "Memory = ['targMem', 'distracter_mem', 'novel_mem']\n",
    "ax.bar(section,ColumnMeans[Memory])\n",
    "error = [ColumnSD['targMem', 'distracter_mem', 'novel_mem']]\n",
    "plt.show()"
   ]
  },
  {
   "cell_type": "code",
   "execution_count": null,
   "metadata": {},
   "outputs": [],
   "source": [
    "ColumnSD = df.apply(np.std)"
   ]
  },
  {
   "cell_type": "code",
   "execution_count": 63,
   "metadata": {},
   "outputs": [
    {
     "data": {
      "text/plain": [
       "ABT1overall           0.115956\n",
       "ABT2overall           0.134441\n",
       "Lag1_T1A_T2A_T1       0.143545\n",
       "Lag1_T1A_T2A_T2       0.202477\n",
       "Lag1_T1A_T2A_T2_T1    0.178986\n",
       "Lag1_T1A_T2P_T1       0.142590\n",
       "Lag1_T1A_T2P_T2       0.219024\n",
       "Lag1_T1A_T2P_T2_T1    0.226854\n",
       "Lag1_T1P_T2A_T1       0.118675\n",
       "Lag1_T1P_T2A_T2       0.174157\n",
       "Lag1_T1P_T2A_T2_T1    0.185066\n",
       "Lag1_T1P_T2P_T1       0.122473\n",
       "Lag1_T1P_T2P_T2       0.191982\n",
       "Lag1_T1P_T2P_T2_T1    0.204221\n",
       "Lag5_T1A_T2A_T1       0.153237\n",
       "Lag5_T1A_T2A_T2       0.227325\n",
       "Lag5_T1A_T2A_T2_T1    0.197946\n",
       "Lag5_T1A_T2P_T1       0.141237\n",
       "Lag5_T1A_T2P_T2       0.176422\n",
       "Lag5_T1A_T2P_T2_T1    0.193390\n",
       "Lag5_T1P_T2A_T1       0.121630\n",
       "Lag5_T1P_T2A_T2       0.167493\n",
       "Lag5_T1P_T2A_T2_T1    0.174781\n",
       "Lag5_T1P_T2P_T1       0.123608\n",
       "Lag5_T1P_T2P_T2       0.185455\n",
       "Lag5_T1P_T2P_T2_T1    0.178508\n",
       "PP1T2_mem             0.260273\n",
       "PP1blink_mem          0.197281\n",
       "PP1cor_mem            0.191442\n",
       "PP1miss_mem           0.318603\n",
       "PP5cor_mem            0.182946\n",
       "T1Overall             0.176163\n",
       "T2Overall             0.145209\n",
       "distMem               0.111496\n",
       "distracter_mem        0.171136\n",
       "novel_mem             0.142807\n",
       "targMem               0.116087\n",
       "blinkMag              0.143915\n",
       "dtype: float64"
      ]
     },
     "execution_count": 63,
     "metadata": {},
     "output_type": "execute_result"
    }
   ],
   "source": [
    "ColumnSD"
   ]
  },
  {
   "cell_type": "code",
   "execution_count": null,
   "metadata": {},
   "outputs": [],
   "source": [
    "#calculate means\n",
    "ColumnMeans = df.apply(np.mean)\n",
    "#calculate the standard deviation\n",
    "ColumnSD = df.apply(np.std)\n",
    "\n",
    "import numpy as np\n",
    "import matplotlib.pyplot as plt\n",
    "%matplotlib inline\n",
    "fig = plt.figure()\n",
    "ax = fig.add_axes([0,0,1,1])\n",
    "\n",
    "#data\n",
    "section = ['Target', 'Distractor', 'Novel']\n",
    "Memory = ['targMem', 'distracter_mem', 'novel_mem']\n",
    "ax.bar(section,ColumnMeans[Memory])\n",
    "ci = 0.1 * np.std / np.mean\n",
    "plt.show()"
   ]
  },
  {
   "cell_type": "code",
   "execution_count": 67,
   "metadata": {},
   "outputs": [
    {
     "data": {
      "text/plain": [
       "(array([ 1.,  0.,  0.,  0.,  0.,  2.,  7., 16., 14., 13.]),\n",
       " array([0.14285714, 0.22142857, 0.3       , 0.37857143, 0.45714286,\n",
       "        0.53571429, 0.61428571, 0.69285714, 0.77142857, 0.85      ,\n",
       "        0.92857143]),\n",
       " <BarContainer object of 10 artists>)"
      ]
     },
     "execution_count": 67,
     "metadata": {},
     "output_type": "execute_result"
    },
    {
     "data": {
      "image/png": "[encoded data removed]",
      "text/plain": [
       "<Figure size 432x288 with 1 Axes>"
      ]
     },
     "metadata": {
      "needs_background": "light"
     },
     "output_type": "display_data"
    }
   ],
   "source": [
    "#USE-DATA CLEANING\n",
    "import matplotlib.pyplot as plt\n",
    "import numpy as np\n",
    "fig = plt.figure()\n",
    "plt.hist(df['Lag1_T1P_T2A_T1'], alpha=0.5)\n",
    "\n"
   ]
  },
  {
   "cell_type": "code",
   "execution_count": 68,
   "metadata": {},
   "outputs": [
    {
     "data": {
      "text/plain": [
       "(array([ 1.,  0.,  0.,  0.,  2.,  3.,  7., 16., 15.,  9.]),\n",
       " array([0.14285714, 0.21785714, 0.29285714, 0.36785714, 0.44285714,\n",
       "        0.51785714, 0.59285714, 0.66785714, 0.74285714, 0.81785714,\n",
       "        0.89285714]),\n",
       " <BarContainer object of 10 artists>)"
      ]
     },
     "execution_count": 68,
     "metadata": {},
     "output_type": "execute_result"
    },
    {
     "data": {
      "image/png": "[encoded data removed]",
      "text/plain": [
       "<Figure size 432x288 with 1 Axes>"
      ]
     },
     "metadata": {
      "needs_background": "light"
     },
     "output_type": "display_data"
    }
   ],
   "source": [
    "#USE-DATA CLEANING\n",
    "import matplotlib.pyplot as plt\n",
    "import numpy as np\n",
    "fig = plt.figure()\n",
    "plt.hist(df['Lag5_T1P_T2A_T1'], alpha=0.5)"
   ]
  },
  {
   "cell_type": "code",
   "execution_count": 69,
   "metadata": {},
   "outputs": [
    {
     "data": {
      "text/plain": [
       "(array([ 1.,  0.,  0.,  0.,  0.,  0.,  0.,  2., 14., 36.]),\n",
       " array([0.08496732, 0.16993464, 0.25490196, 0.33986928, 0.4248366 ,\n",
       "        0.50980392, 0.59477124, 0.67973856, 0.76470588, 0.8496732 ,\n",
       "        0.93464052]),\n",
       " <BarContainer object of 10 artists>)"
      ]
     },
     "execution_count": 69,
     "metadata": {},
     "output_type": "execute_result"
    },
    {
     "data": {
      "image/png": "[encoded data removed]",
      "text/plain": [
       "<Figure size 432x288 with 1 Axes>"
      ]
     },
     "metadata": {
      "needs_background": "light"
     },
     "output_type": "display_data"
    }
   ],
   "source": [
    "#USE-DATA CLEANING\n",
    "import matplotlib.pyplot as plt\n",
    "import numpy as np\n",
    "fig = plt.figure()\n",
    "plt.hist(df['ABT1overall'], alpha=0.5)"
   ]
  },
  {
   "cell_type": "code",
   "execution_count": null,
   "metadata": {},
   "outputs": [],
   "source": [
    "#DON'T NEED TO USE\n",
    "import matplotlib.pyplot as plt\n",
    "import numpy as np\n",
    "fig = plt.figure()\n",
    "plt.hist(df['ABT2overall'], alpha=0.5)"
   ]
  },
  {
   "cell_type": "code",
   "execution_count": 70,
   "metadata": {},
   "outputs": [
    {
     "data": {
      "text/plain": [
       "(array([ 2.,  0.,  2.,  0.,  1.,  3., 13.,  5., 13., 14.]),\n",
       " array([0.09302326, 0.17674419, 0.26046512, 0.34418605, 0.42790698,\n",
       "        0.51162791, 0.59534884, 0.67906977, 0.7627907 , 0.84651163,\n",
       "        0.93023256]),\n",
       " <BarContainer object of 10 artists>)"
      ]
     },
     "execution_count": 70,
     "metadata": {},
     "output_type": "execute_result"
    },
    {
     "data": {
      "image/png": "[encoded data removed]",
      "text/plain": [
       "<Figure size 432x288 with 1 Axes>"
      ]
     },
     "metadata": {
      "needs_background": "light"
     },
     "output_type": "display_data"
    }
   ],
   "source": [
    "#use this\n",
    "import matplotlib.pyplot as plt\n",
    "import numpy as np\n",
    "fig = plt.figure()\n",
    "plt.hist(df['Lag5_T1P_T2P_T2'], alpha=0.5)"
   ]
  },
  {
   "cell_type": "code",
   "execution_count": 71,
   "metadata": {},
   "outputs": [
    {
     "data": {
      "text/plain": [
       "(array([ 3.,  2.,  2.,  3.,  3., 11.,  2., 13.,  7.,  7.]),\n",
       " array([0.17241379, 0.24137931, 0.31034483, 0.37931034, 0.44827586,\n",
       "        0.51724138, 0.5862069 , 0.65517241, 0.72413793, 0.79310345,\n",
       "        0.86206897]),\n",
       " <BarContainer object of 10 artists>)"
      ]
     },
     "execution_count": 71,
     "metadata": {},
     "output_type": "execute_result"
    },
    {
     "data": {
      "image/png": "[encoded data removed]",
      "text/plain": [
       "<Figure size 432x288 with 1 Axes>"
      ]
     },
     "metadata": {
      "needs_background": "light"
     },
     "output_type": "display_data"
    }
   ],
   "source": [
    "#use this\n",
    "import matplotlib.pyplot as plt\n",
    "import numpy as np\n",
    "fig = plt.figure()\n",
    "plt.hist(df['Lag5_T1A_T2P_T2'], alpha=0.5)"
   ]
  },
  {
   "cell_type": "code",
   "execution_count": 66,
   "metadata": {},
   "outputs": [
    {
     "data": {
      "text/plain": [
       "array([0.88648649, 0.91351351, 0.80540541, 0.90810811, 0.95675676,\n",
       "       0.72432432, 0.87567568, 0.9027027 , 0.95675676, 0.84864865,\n",
       "       0.96756757, 0.87567568, 0.75135135, 0.76216216, 0.88108108,\n",
       "       0.85405405, 0.85405405, 0.81081081, 0.98918919, 0.87567568,\n",
       "       0.8972973 , 0.93513514, 0.8972973 , 0.51351351, 0.94054054,\n",
       "       0.9027027 , 0.74054054, 0.63783784, 0.87567568, 0.40540541,\n",
       "       0.92432432, 0.75675676, 0.94054054, 0.88108108, 0.25945946,\n",
       "       0.88108108, 0.61621622, 0.70810811, 0.96756757, 0.8       ,\n",
       "       0.95675676, 0.95135135, 0.77837838, 0.59459459, 0.65945946,\n",
       "       0.93513514, 0.92432432, 0.81081081, 0.81081081, 0.78378378,\n",
       "       0.9027027 , 0.76756757, 0.83243243])"
      ]
     },
     "execution_count": 66,
     "metadata": {},
     "output_type": "execute_result"
    }
   ],
   "source": [
    "df['novel_mem'].values"
   ]
  },
  {
   "cell_type": "code",
   "execution_count": 72,
   "metadata": {},
   "outputs": [
    {
     "data": {
      "text/plain": [
       "(array([ 1.,  0.,  1.,  1.,  2.,  2.,  7.,  8., 18., 13.]),\n",
       " array([0.25945946, 0.33243243, 0.40540541, 0.47837838, 0.55135135,\n",
       "        0.62432432, 0.6972973 , 0.77027027, 0.84324324, 0.91621622,\n",
       "        0.98918919]),\n",
       " <BarContainer object of 10 artists>)"
      ]
     },
     "execution_count": 72,
     "metadata": {},
     "output_type": "execute_result"
    },
    {
     "data": {
      "image/png": "[encoded data removed]",
      "text/plain": [
       "<Figure size 432x288 with 1 Axes>"
      ]
     },
     "metadata": {
      "needs_background": "light"
     },
     "output_type": "display_data"
    }
   ],
   "source": [
    "#use this\n",
    "import matplotlib.pyplot as plt\n",
    "import numpy as np\n",
    "fig = plt.figure()\n",
    "plt.hist(df['novel_mem'], alpha=0.5)"
   ]
  },
  {
   "cell_type": "code",
   "execution_count": null,
   "metadata": {},
   "outputs": [],
   "source": []
  }
 ],
 "metadata": {
  "kernelspec": {
   "display_name": "Python 3 (ipykernel)",
   "language": "python",
   "name": "python3"
  },
  "language_info": {
   "codemirror_mode": {
    "name": "ipython",
    "version": 3
   },
   "file_extension": ".py",
   "mimetype": "text/x-python",
   "name": "python",
   "nbconvert_exporter": "python",
   "pygments_lexer": "ipython3",
   "version": "3.12.3"
  }
 },
 "nbformat": 4,
 "nbformat_minor": 4
}
